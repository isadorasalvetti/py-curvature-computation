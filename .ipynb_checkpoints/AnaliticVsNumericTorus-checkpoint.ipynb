{
 "cells": [
  {
   "cell_type": "code",
   "execution_count": 16,
   "metadata": {},
   "outputs": [],
   "source": [
    "import xml.etree.ElementTree as ET\n",
    "def load_xml(xml_name):\n",
    "    root = ET.parse(xml_name).getroot()\n",
    "    principal_directions0 = root.findall(\"principalDirections0\")[0]\n",
    "    principal_directions1 = root.findall(\"principalDirections1\")[0]\n",
    "    principal_directions2 = root.findall(\"principalDirections2\")[0]\n",
    "    principal_directions3 = root.findall(\"principalDirections3\")[0]\n",
    "    vertex_positions = root.findall(\"vertexPositions\")[0]\n",
    "    normals = root.findall(\"normals\")[0]\n",
    "    return principal_directions0, principal_directions1, principal_directions2, principal_directions3, vertex_positions, normals"
   ]
  },
  {
   "cell_type": "code",
   "execution_count": 17,
   "metadata": {
    "scrolled": true
   },
   "outputs": [],
   "source": [
    "import numpy as np\n",
    "def get_unity_values(normals, vertex_positions, pds0,  pds1,  pds2,  pds3, invert=False):\n",
    "    vertices = []\n",
    "    unity_normals = []\n",
    "    unity_values1 = []\n",
    "    unity_values2 = []\n",
    "    unity_values3 = []\n",
    "    unity_values4 = []\n",
    "\n",
    "    if not invert:\n",
    "        x_index=0\n",
    "        y_index=2\n",
    "        z_index=1\n",
    "    else:\n",
    "        x_index=0\n",
    "        y_index=1\n",
    "        z_index=2\n",
    "\n",
    "    for i in range(len(pds0)):\n",
    "        vp = vertex_positions[i]\n",
    "        vp_val = np.asarray([float(vp[x_index].text), float(vp[y_index].text), float(vp[z_index].text)])\n",
    "        #if not any((vp_val == x).all() for x in vertices):\n",
    "        vertices.append(vp_val)\n",
    "\n",
    "        n = normals[i]\n",
    "        n_val = np.asarray([float(n[x_index].text), float(n[y_index].text), float(n[z_index].text)])\n",
    "\n",
    "        pd1 = pds0[i]\n",
    "        pd1_val = np.asarray([float(pd1[x_index].text), float(pd1[y_index].text), float(pd1[z_index].text)])\n",
    "\n",
    "        pd2 = pds1[i]  \n",
    "        pd2_val = np.asarray([float(pd2[x_index].text), float(pd2[y_index].text), float(pd2[z_index].text)])\n",
    "\n",
    "        pd3 = pds2[i]  \n",
    "        pd3_val = np.asarray([float(pd3[x_index].text), float(pd3[y_index].text), float(pd3[z_index].text)])\n",
    "\n",
    "        pd4 = pds3[i]  \n",
    "        pd4_val = np.asarray([float(pd4[x_index].text), float(pd4[y_index].text), float(pd4[z_index].text)])\n",
    "\n",
    "        unity_values1.append(pd1_val)\n",
    "        unity_values2.append(pd2_val)\n",
    "        unity_values3.append(pd3_val)\n",
    "        unity_values4.append(pd4_val)\n",
    "        unity_normals.append(n_val)\n",
    "\n",
    "    print(\"Vertices: {}, V1:\".format(len(vertices), vertices[0]))\n",
    "    return vertices, unity_normals, unity_values1, unity_values2, unity_values3, unity_values4"
   ]
  },
  {
   "cell_type": "code",
   "execution_count": 18,
   "metadata": {},
   "outputs": [],
   "source": [
    "from math import sin, cos, atan2, asin, acos, sqrt\n",
    "\n",
    "def analytic_curv(r1, r2, unity_values1, unity_values2, unity_values3, unity_values4):\n",
    "    def len_vector(v):\n",
    "        return np.sqrt(np.sum(v**2))\n",
    "    \n",
    "    def dot(a, b):\n",
    "        dot = 0\n",
    "        for i in range(len(a)):\n",
    "            dot += a[i] * b[i]\n",
    "        return dot\n",
    "    \n",
    "    def angle_vecs(a, b):\n",
    "         return acos(dot(a, b))\n",
    "\n",
    "    def normalize(v):\n",
    "        return v / len_vector(v)\n",
    "\n",
    "    def diff(v1, v2, v3, v4, v_comp):\n",
    "        diff1 = angle_vecs(v_comp, v1)\n",
    "        diff1 = min(angle_vecs(v_comp, v2), diff1)\n",
    "        diff1 = min(angle_vecs(v_comp, v3), diff1)\n",
    "        diff1 = min(angle_vecs(v_comp, v4), diff1)\n",
    "        return diff1\n",
    "\n",
    "    diffs = []\n",
    "    analitic_curv1 = []\n",
    "    analitic_curv2 = []\n",
    "\n",
    "    for i in range(len(vertices)):\n",
    "        vertex = vertices[i]    \n",
    "\n",
    "        x = vertex[0]\n",
    "        y = vertex[1]\n",
    "        z = vertex[2] #up\n",
    "\n",
    "        p1_unity = normalize(unity_values1[i])\n",
    "        p2_unity = normalize(unity_values2[i])\n",
    "        p3_unity = normalize(unity_values3[i])\n",
    "        p4_unity = normalize(unity_values4[i])\n",
    "\n",
    "        l = atan2(y, x)\n",
    "        cos_l = cos(l)\n",
    "        sin_l = sin(l) \n",
    "\n",
    "        sin_o = z/r2\n",
    "        cos_o = np.sqrt(abs(1 - sin_o**2))\n",
    "        dist = x**2 + y**2\n",
    "        if dist <= r1**2:\n",
    "            cos_o *= -1\n",
    "\n",
    "        p1 = np.asarray([-sin_l, cos_l, 0])\n",
    "        p2 = np.asarray([-cos_l*sin_o, -sin_o*sin_l, cos_o])\n",
    "        p1 = normalize(p1)  \n",
    "        p2 = normalize(p2)\n",
    "\n",
    "        diff1 = diff(p1_unity, p2_unity, p3_unity, p4_unity, p1)\n",
    "        diffs.append(diff1)\n",
    "        analitic_curv1.append(p1)\n",
    "        analitic_curv2.append(p2)\n",
    "\n",
    "    vert_stack = np.stack(vertices)\n",
    "    curv_stack1_a = np.stack(analitic_curv1)\n",
    "    curv_stack2_a = np.stack(analitic_curv2)\n",
    "    return(vert_stack, curv_stack1_a, curv_stack2_a, diffs)\n"
   ]
  },
  {
   "cell_type": "code",
   "execution_count": 197,
   "metadata": {},
   "outputs": [
    {
     "data": {
      "image/png": "[encoded data removed]",
      "text/plain": [
       "<Figure size 432x288 with 1 Axes>"
      ]
     },
     "metadata": {},
     "output_type": "display_data"
    }
   ],
   "source": [
    "import matplotlib.pyplot as plt\n",
    "def plot(diffs, labels):\n",
    "    logbins = []\n",
    "    hist, bins = np.histogram(diffs[2], bins=8)\n",
    "    logbins = np.logspace(np.log10(bins[0]),np.log10(bins[-1]),len(bins))\n",
    "    plt.hist(diffs,  \n",
    "             density = False, \n",
    "             label = labels, \n",
    "             histtype='bar',\n",
    "             bins=logbins)\n",
    "    \n",
    "    plt.legend(loc='upper right')\n",
    "    plt.xscale('log')\n",
    "    plt.show()\n",
    "    \n",
    "plot([diffs1*32, diffs2*11, diffs3*4, diffs4], [str(len(diffs1)), str(len(diffs2)), str(len(diffs3)), str(len(diffs4))])"
   ]
  },
  {
   "cell_type": "code",
   "execution_count": 183,
   "metadata": {},
   "outputs": [
    {
     "data": {
      "image/png": "[encoded data removed]",
      "text/plain": [
       "<Figure size 432x288 with 1 Axes>"
      ]
     },
     "metadata": {},
     "output_type": "display_data"
    }
   ],
   "source": [
    "import seaborn as sns\n",
    "import matplotlib.pyplot as plt\n",
    "def plot(diffs, labels):\n",
    "    for i in range(len(diffs)):\n",
    "        label = labels[i]\n",
    "        x = diffs[i]\n",
    "        sns.distplot(x, label=label, kde=False)\n",
    "    plt.legend(loc='upper right')\n",
    "    plt.xscale('log')\n",
    "\n",
    "    plt.show()\n",
    "    \n",
    "plot([diffs1*16, diffs2*9, diffs3*4, diffs4], [str(len(diffs1)), str(len(diffs2)), str(len(diffs3)), str(len(diffs4))])"
   ]
  },
  {
   "cell_type": "code",
   "execution_count": 105,
   "metadata": {},
   "outputs": [],
   "source": [
    "import matplotlib.pyplot as plt\n",
    "def show_geo(vertices):\n",
    "    stack = np.stack(vertices)\n",
    "    fig = plt.figure(figsize=(15,7))\n",
    "    ax = plt.axes(projection=\"3d\")\n",
    "    ax.scatter(stack[:, 0], stack[:, 1], stack[:, 2])\n",
    "    plt.xlabel('x')\n",
    "    plt.ylabel('y')\n",
    "\n",
    "    print(\"Max x:\", np.amax(stack[:, 0]))\n",
    "    print(\"Max y:\", np.amax(stack[:, 1]))\n",
    "    print(\"Max z:\", np.amax(stack[:, 2]))\n",
    "\n",
    "    plt.show()"
   ]
  },
  {
   "cell_type": "code",
   "execution_count": 106,
   "metadata": {
    "scrolled": true
   },
   "outputs": [
    {
     "name": "stdout",
     "output_type": "stream",
     "text": [
      "Vertices: 864, V1:\n",
      "Vertices: 2400, V1:\n",
      "Vertices: 6912, V1:\n",
      "Vertices: 27648, V1:\n"
     ]
    },
    {
     "data": {
      "image/png": "[encoded data removed]",
      "text/plain": [
       "<Figure size 432x288 with 1 Axes>"
      ]
     },
     "metadata": {
      "needs_background": "light"
     },
     "output_type": "display_data"
    }
   ],
   "source": [
    "import matplotlib.pyplot as plt\n",
    "\n",
    "#First torus\n",
    "r1, r2 = 0.5, 0.25\n",
    "pds0, pds1, pds2, pds3, vertex_positions, normals = load_xml(\"lowPolyTorus.xml\")\n",
    "vertices, unity_normals, unity_values1, unity_values2, unity_values3, unity_values4 = get_unity_values(normals, vertex_positions, pds0, pds1, pds2, pds3, True)\n",
    "vert_stack, curv_stack1_a, curv_stack2_a, diffs1 = analytic_curv(r1, r2, unity_values1, unity_values2, unity_values3, unity_values4)\n",
    "\n",
    "pds0, pds1, pds2, pds3, vertex_positions, normals = load_xml(\"torusFirst.xml\")\n",
    "vertices, unity_normals, unity_values1, unity_values2, unity_values3, unity_values4 = get_unity_values(normals, vertex_positions, pds0, pds1, pds2, pds3,)\n",
    "vert_stack, curv_stack1_a, curv_stack2_a, diffs2 = analytic_curv(r1, r2, unity_values1, unity_values2, unity_values3, unity_values4)\n",
    "\n",
    "pds0, pds1, pds2, pds3, vertex_positions, normals = load_xml(\"highPolyTorus.xml\")\n",
    "vertices, unity_normals, unity_values1, unity_values2, unity_values3, unity_values4 = get_unity_values(normals, vertex_positions, pds0, pds1, pds2, pds3, True)\n",
    "vert_stack, curv_stack1_a, curv_stack2_a, diffs3 = analytic_curv(r1, r2, unity_values1, unity_values2, unity_values3, unity_values4)\n",
    "\n",
    "pds0, pds1, pds2, pds3, vertex_positions, normals = load_xml(\"ReallyHighTorus.xml\")\n",
    "vertices, unity_normals, unity_values1, unity_values2, unity_values3, unity_values4 = get_unity_values(normals, vertex_positions, pds0, pds1, pds2, pds3, True)\n",
    "vert_stack, curv_stack1_a, curv_stack2_a, diffs4 = analytic_curv(r1, r2, unity_values1, unity_values2, unity_values3, unity_values4)\n",
    "\n",
    "\n",
    "# plot([diffs1, diffs2, diffs3, diffs4], [str(len(diffs1)), str(len(diffs2)), str(len(diffs3)), str(len(diffs4))])\n",
    "\n"
   ]
  },
  {
   "cell_type": "code",
   "execution_count": 170,
   "metadata": {},
   "outputs": [
    {
     "data": {
      "image/png": "[encoded data removed]",
      "text/plain": [
       "<Figure size 432x288 with 1 Axes>"
      ]
     },
     "metadata": {},
     "output_type": "display_data"
    }
   ],
   "source": [
    "import seaborn as sns\n",
    "import matplotlib.pyplot as plt\n",
    "import numpy as np\n",
    "\n",
    "sns.set()\n",
    "def plot(diffs, labels):\n",
    "    for diff,label in zip(diffs, labels):\n",
    "        logdiff = np.log(diff)\n",
    "        count, bins = np.histogram(logdiff, bins=8)\n",
    "#         plt.hist(diff, label = label, histtype='bar')\n",
    "        weights = np.ones_like(np.array(logdiff))/len(np.array(logdiff))\n",
    "        sns.distplot(logdiff, hist_kws={'weights': weights}, kde=False)\n",
    "#         break\n",
    "        plt.xlim(-8,-1)\n",
    "    plt.show()\n",
    "#     plt.legend(loc='upper right')     \n",
    "\n",
    "\n",
    "plot([diffs1, diffs2, diffs3, diffs4], [str(len(diffs1)), str(len(diffs2)), str(len(diffs3)), str(len(diffs4))])"
   ]
  },
  {
   "cell_type": "code",
   "execution_count": 267,
   "metadata": {},
   "outputs": [
    {
     "data": {
      "image/png": "[encoded data removed]",
      "text/plain": [
       "<Figure size 842.4x595.44 with 1 Axes>"
      ]
     },
     "metadata": {},
     "output_type": "display_data"
    }
   ],
   "source": [
    "import seaborn as sns\n",
    "import matplotlib.pyplot as plt\n",
    "import numpy as np\n",
    "\n",
    "sns.set()\n",
    "\n",
    "fig, ax = plt.subplots()\n",
    "fig.set_size_inches(11.7, 8.27)\n",
    "\n",
    "def plot(diffs, labels):\n",
    "    colors = [\"#1f77b4\", \"#ff7f0e\", \"green\", \"red\"]\n",
    "    all_counts = []\n",
    "    all_bins = []\n",
    "\n",
    "    bins=[-3.75, -3.5, -3.25, -3, -2.75, -2.5, -2.25, -2, -1.75, -1.5, -1.25, -1, 0]\n",
    "    all_bins=[i for i in bins[:-1]]\n",
    "    \n",
    "    for diff, label, color in zip(diffs, labels, colors):\n",
    "        logdiff = np.log10(diff)\n",
    "        count, bins = np.histogram(logdiff, bins=bins)\n",
    "        count = [i/len(diff) for i in count]\n",
    "        for c, b in zip(count, all_bins):\n",
    "            all_counts.append([len(diff), c, b])\n",
    "        \n",
    "        \n",
    "        #sns.barplot(x=bins[:-1], y=count, color=color, alpha=0.8)   \n",
    "        #plt.bar(x=bins[:-1], height=count, color=color, alpha=0.8)\n",
    "    data = pd.DataFrame(all_counts, columns = [\"Vertices\", \"Frequency\", \"Log error\"])\n",
    "    tips = sns.load_dataset(\"tips\")\n",
    "    sns.barplot(data=data, x=\"Log error\", y=\"Frequency\", hue=\"Vertices\", palette=colors, alpha=0.8, ax=ax)\n",
    "    plt.show()\n",
    "plot([diffs1, diffs2, diffs3, diffs4], [str(len(diffs1)), str(len(diffs2)), str(len(diffs3)), str(len(diffs4))])"
   ]
  },
  {
   "cell_type": "code",
   "execution_count": 61,
   "metadata": {},
   "outputs": [
    {
     "name": "stdout",
     "output_type": "stream",
     "text": [
      "Vertices: 1380, V1:\n",
      "Vertices: 4140, V1:\n",
      "Vertices: 16584, V1:\n",
      "Vertices: 27648, V1:\n"
     ]
    },
    {
     "data": {
      "image/png": "[encoded data removed]",
      "text/plain": [
       "<Figure size 432x288 with 1 Axes>"
      ]
     },
     "metadata": {
      "needs_background": "light"
     },
     "output_type": "display_data"
    }
   ],
   "source": [
    "import matplotlib.pyplot as plt\n",
    "\n",
    "#First torus\n",
    "r1, r2 = 0.5, 0.25\n",
    "\n",
    "\n",
    "pds0, pds1, pds2, pds3, vertex_positions, normals = load_xml(\"LowTorus.xml\")\n",
    "vertices, unity_normals, unity_values1, unity_values2, unity_values3, unity_values4 = get_unity_values(normals, vertex_positions, pds0, pds1, pds2, pds3, True)\n",
    "vert_stack, curv_stack1_a, curv_stack2_a, diffs1 = analytic_curv(r1, r2, unity_values1, unity_values2, unity_values3, unity_values4)\n",
    "\n",
    "pds0, pds1, pds2, pds3, vertex_positions, normals = load_xml(\"MedTorus.xml\")\n",
    "vertices, unity_normals, unity_values1, unity_values2, unity_values3, unity_values4 = get_unity_values(normals, vertex_positions, pds0, pds1, pds2, pds3,)\n",
    "vert_stack, curv_stack1_a, curv_stack2_a, diffs2 = analytic_curv(r1, r2, unity_values1, unity_values2, unity_values3, unity_values4)\n",
    "\n",
    "pds0, pds1, pds2, pds3, vertex_positions, normals = load_xml(\"HighTorus.xml\")\n",
    "vertices, unity_normals, unity_values1, unity_values2, unity_values3, unity_values4 = get_unity_values(normals, vertex_positions, pds0, pds1, pds2, pds3, True)\n",
    "vert_stack, curv_stack1_a, curv_stack2_a, diffs3 = analytic_curv(r1, r2, unity_values1, unity_values2, unity_values3, unity_values4)\n",
    "\n",
    "pds0, pds1, pds2, pds3, vertex_positions, normals = load_xml(\"ReallyHighTorus.xml\")\n",
    "vertices, unity_normals, unity_values1, unity_values2, unity_values3, unity_values4 = get_unity_values(normals, vertex_positions, pds0, pds1, pds2, pds3, True)\n",
    "vert_stack, curv_stack1_a, curv_stack2_a, diffs4 = analytic_curv(r1, r2, unity_values1, unity_values2, unity_values3, unity_values4)\n",
    "\n",
    "plot([diffs1, diffs2, diffs3], [str(len(diffs1)), str(len(diffs2)), str(len(diffs3))])\n",
    "\n",
    "\n",
    "plt.legend(loc='upper right')\n",
    "plt.xscale('log')\n",
    "plt.show()"
   ]
  },
  {
   "cell_type": "code",
   "execution_count": 117,
   "metadata": {},
   "outputs": [
    {
     "name": "stdout",
     "output_type": "stream",
     "text": [
      "Vertices: 864, V1:\n",
      "Vertices: 2400, V1:\n",
      "Vertices: 6912, V1:\n",
      "Vertices: 1380, V1:\n",
      "Vertices: 4140, V1:\n",
      "Vertices: 16584, V1:\n"
     ]
    },
    {
     "data": {
      "image/png": "[encoded data removed]",
      "text/plain": [
       "<Figure size 432x288 with 1 Axes>"
      ]
     },
     "metadata": {
      "needs_background": "light"
     },
     "output_type": "display_data"
    }
   ],
   "source": [
    "import matplotlib.pyplot as plt\n",
    "\n",
    "#First torus\n",
    "r1, r2 = 0.5, 0.25\n",
    "\n",
    "pds0, pds1, pds2, pds3, vertex_positions, normals = load_xml(\"lowPolyTorus.xml\")\n",
    "vertices, unity_normals, unity_values1, unity_values2, unity_values3, unity_values4 = get_unity_values(normals, vertex_positions, pds0, pds1, pds2, pds3, True)\n",
    "vert_stack, curv_stack1_a, curv_stack2_a, diffs1 = analytic_curv(r1, r2, unity_values1, unity_values2, unity_values3, unity_values4)\n",
    "\n",
    "pds0, pds1, pds2, pds3, vertex_positions, normals = load_xml(\"torusFirst.xml\")\n",
    "vertices, unity_normals, unity_values1, unity_values2, unity_values3, unity_values4 = get_unity_values(normals, vertex_positions, pds0, pds1, pds2, pds3,)\n",
    "vert_stack, curv_stack1_a, curv_stack2_a, diffs2 = analytic_curv(r1, r2, unity_values1, unity_values2, unity_values3, unity_values4)\n",
    "\n",
    "pds0, pds1, pds2, pds3, vertex_positions, normals = load_xml(\"highPolyTorus.xml\")\n",
    "vertices, unity_normals, unity_values1, unity_values2, unity_values3, unity_values4 = get_unity_values(normals, vertex_positions, pds0, pds1, pds2, pds3, True)\n",
    "vert_stack, curv_stack1_a, curv_stack2_a, diffs3 = analytic_curv(r1, r2, unity_values1, unity_values2, unity_values3, unity_values4)\n",
    "\n",
    "pds0, pds1, pds2, pds3, vertex_positions, normals = load_xml(\"LowTorus.xml\")\n",
    "vertices, unity_normals, unity_values1, unity_values2, unity_values3, unity_values4 = get_unity_values(normals, vertex_positions, pds0, pds1, pds2, pds3, True)\n",
    "vert_stack, curv_stack1_a, curv_stack2_a, diffs4 = analytic_curv(r1, r2, unity_values1, unity_values2, unity_values3, unity_values4)\n",
    "\n",
    "pds0, pds1, pds2, pds3, vertex_positions, normals = load_xml(\"MedTorus.xml\")\n",
    "vertices, unity_normals, unity_values1, unity_values2, unity_values3, unity_values4 = get_unity_values(normals, vertex_positions, pds0, pds1, pds2, pds3,)\n",
    "vert_stack, curv_stack1_a, curv_stack2_a, diffs5 = analytic_curv(r1, r2, unity_values1, unity_values2, unity_values3, unity_values4)\n",
    "\n",
    "pds0, pds1, pds2, pds3, vertex_positions, normals = load_xml(\"HighTorus.xml\")\n",
    "vertices, unity_normals, unity_values1, unity_values2, unity_values3, unity_values4 = get_unity_values(normals, vertex_positions, pds0, pds1, pds2, pds3, True)\n",
    "vert_stack, curv_stack1_a, curv_stack2_a, diffs6 = analytic_curv(r1, r2, unity_values1, unity_values2, unity_values3, unity_values4)\n",
    "\n",
    "plot([diffs1, diffs2, diffs3, diffs4, diffs5, diffs6], \n",
    "     [str(len(diffs1)), str(len(diffs2)), str(len(diffs3)), str(len(diffs4)), str(len(diffs5)), str(len(diffs6))])\n",
    "\n",
    "\n",
    "plt.legend(loc='upper right')\n",
    "plt.show()\n"
   ]
  },
  {
   "cell_type": "code",
   "execution_count": null,
   "metadata": {},
   "outputs": [],
   "source": [
    "vert_stack = np.stack(vertices)\n",
    "curv_stack1 = np.stack(unity_values1)\n",
    "curv_stack2 = np.stack(unity_values2)\n",
    "curv_stack3 = np.stack(unity_values3)\n",
    "curv_stack4 = np.stack(unity_values4)\n",
    "\n",
    "fig, ax = plt.subplots(figsize=(10,10))\n",
    "\n",
    "ax.quiver(vert_stack[:,0], vert_stack[:,1], curv_stack1[:,0], curv_stack1[:,1])#, headwidth=1, width=0.001, scale=60)\n",
    "ax.quiver(vert_stack[:,0], vert_stack[:,1], curv_stack2[:,0], curv_stack2[:,1])#, headwidth=1, width=0.001, scale=60)\n",
    "ax.quiver(vert_stack[:,0], vert_stack[:,1], curv_stack3[:,0], curv_stack3[:,1])#, headwidth=1, width=0.001, scale=60)\n",
    "ax.quiver(vert_stack[:,0], vert_stack[:,1], curv_stack4[:,0], curv_stack4[:,1])#, headwidth=1, width=0.001, scale=60)\n",
    "\n",
    "plt.show()"
   ]
  },
  {
   "cell_type": "code",
   "execution_count": null,
   "metadata": {},
   "outputs": [],
   "source": [
    "fig, ax = plt.subplots(figsize=(10,10))\n",
    "\n",
    "ax.quiver(vert_stack[:,0], vert_stack[:,1], curv_stack1[:,0], curv_stack1[:,1], headwidth=1, width=0.001, scale=60)\n",
    "ax.quiver(vert_stack[:,0], vert_stack[:,1], curv_stack2[:,0], curv_stack2[:,1], headwidth=1, width=0.001, scale=60)\n",
    "\n",
    "ax.quiver(vert_stack[:,0], vert_stack[:,1], curv_stack1_a[:,0], curv_stack1_a[:,1], headwidth=1, width=0.001, scale=60, color=(0, 1, 0))\n",
    "ax.quiver(vert_stack[:,0], vert_stack[:,1], curv_stack2_a[:,0], curv_stack2_a[:,1], headwidth=1, width=0.001, scale=60, color=(0, 1, 0))\n",
    "\n",
    "plt.show()"
   ]
  },
  {
   "cell_type": "code",
   "execution_count": null,
   "metadata": {},
   "outputs": [],
   "source": [
    "fig, ax = plt.subplots(figsize=(15,8))\n",
    "\n",
    "ax.quiver(vert_stack[:,0], vert_stack[:,2], curv_stack1[:,0], curv_stack1[:,2], headwidth=1, width=0.001, scale=60)\n",
    "ax.quiver(vert_stack[:,0], vert_stack[:,2], curv_stack2[:,0], curv_stack2[:,2], headwidth=1, width=0.001, scale=60)\n",
    "ax.quiver(vert_stack[:,0], vert_stack[:,2], curv_stack3[:,0], curv_stack3[:,2], headwidth=1, width=0.001, scale=60)\n",
    "ax.quiver(vert_stack[:,0], vert_stack[:,2], curv_stack4[:,0], curv_stack4[:,2], headwidth=1, width=0.001, scale=60)\n",
    "\n",
    "ax.quiver(vert_stack[:,0], vert_stack[:,2], curv_stack1_a[:,0], curv_stack1_a[:,2], headwidth=1, width=0.001, scale=60, color=(0, 1, 0))\n",
    "ax.quiver(vert_stack[:,0], vert_stack[:,2], curv_stack2_a[:,0], curv_stack2_a[:,2], headwidth=1, width=0.001, scale=60, color=(0, 1, 0))\n",
    "\n",
    "plt.show()"
   ]
  },
  {
   "cell_type": "code",
   "execution_count": null,
   "metadata": {},
   "outputs": [],
   "source": [
    "def plot_tangent(pp, tt1, tt2, a=75, b=0):\n",
    "    fig = plt.figure(figsize=(20,10))\n",
    "    ax = plt.axes(projection=\"3d\")\n",
    "    ax.view_init(a, b)\n",
    "    ax.set_proj_type('persp')\n",
    "    \n",
    "    ax.scatter(pp[:, 0], pp[:, 1], pp[:, 2])\n",
    "    \n",
    "    pp2 = np.tile(pp,(2,1))\n",
    "#     ax.quiver(pp2[:,0], pp2[:,1], pp2[:,2], tt2[:,0], tt2[:,1], tt2[:,2], pivot='middle', length=0.4)\n",
    "    ax.quiver(pp[:,0], pp[:,1], pp[:,2], tt1[:,0], tt1[:,1], tt1[:,2],\n",
    "                colors='blue',\n",
    "              pivot='middle', length=0.03)\n",
    "    ax.quiver(pp[:,0], pp[:,1], pp[:,2], tt2[:,0], tt2[:,1], tt2[:,2],\n",
    "                colors='red',\n",
    "              pivot='middle', length=0.03)\n",
    "    plt.xlabel('x')\n",
    "    plt.ylabel('y')\n",
    "    plt.show()\n",
    "    \n",
    "plot_tangent(vert_stack, curv_stack1_a, curv_stack2_a)"
   ]
  },
  {
   "cell_type": "code",
   "execution_count": null,
   "metadata": {},
   "outputs": [],
   "source": []
  },
  {
   "cell_type": "code",
   "execution_count": null,
   "metadata": {},
   "outputs": [],
   "source": [
    "print(vert_stack[30], curv_stack1_a[30], curv_stack2_b[30])"
   ]
  },
  {
   "cell_type": "code",
   "execution_count": null,
   "metadata": {},
   "outputs": [],
   "source": [
    "from xml.etree.ElementTree import Element, SubElement, tostring\n",
    "from bs4 import BeautifulSoup\n",
    "\n",
    "#\"principalDirections0\" curv_stack1_a\n",
    "#\"principalDirections1\" curv_stack2_b\n",
    "#\"principalDirections2\"\n",
    "#\"principalDirections3\"\n",
    "#\"vertexPositions\" vert_stack\n",
    "normal_stack = np.stack(unity_normals)\n",
    "\n",
    "\n",
    "storedCurvature = Element(\"StoredCurvature\")\n",
    "\n",
    "principalDirections0 = SubElement(storedCurvature, \"principalDirections0\")\n",
    "principalDirections1 = SubElement(storedCurvature, \"principalDirections1\")\n",
    "principalDirections2 = SubElement(storedCurvature, \"principalDirections2\")\n",
    "principalDirections3 = SubElement(storedCurvature, \"principalDirections3\")\n",
    "vertexPositions = SubElement(storedCurvature, \"vertexPositions\")\n",
    "normals = SubElement(storedCurvature, \"normals\")\n",
    "\n",
    "\n",
    "for i in range(len(vert_stack)):\n",
    "    pd0 = curv_stack1_a[i]\n",
    "    pd1 = curv_stack2_a[i]\n",
    "    pd2 = -1*curv_stack1_a[i]\n",
    "    pd3 = -1*curv_stack2_a[i]\n",
    "    vert = vert_stack[i]\n",
    "    normal = normal_stack[i]\n",
    "    \n",
    "    subelements = [vertexPositions, principalDirections0, principalDirections1, principalDirections2, principalDirections3, normals]\n",
    "    values = [vert, pd0, pd1, pd2, pd3, normal]\n",
    "    \n",
    "    for element, value in zip(subelements, values):\n",
    "        Vector3 = SubElement(element, \"Vector3\")\n",
    "        x_comp = SubElement(Vector3, \"x\")\n",
    "        x_comp.text = str(value[x_index])\n",
    "        y_comp = SubElement(Vector3, \"y\")\n",
    "        y_comp.text = str(value[y_index])\n",
    "        z_comp = SubElement(Vector3, \"z\")\n",
    "        z_comp.text = str(value[z_index])\n",
    "\n",
    "xml_text = tostring(storedCurvature)\n",
    "bs = BeautifulSoup(xml_text, 'xml')\n",
    "\n",
    "with open(\"AnaliticFirstTorus.xml\", \"wb\") as f:\n",
    "    f.write(bs.prettify().encode())"
   ]
  },
  {
   "cell_type": "code",
   "execution_count": null,
   "metadata": {},
   "outputs": [],
   "source": [
    "import matplotlib.pyplot as plt\n",
    "\n",
    "X = [1, 2, 3, 0]\n",
    "Y = [1, 2, 1, 0]\n",
    "\n",
    "X[3] = (X[0] + X[1] + X[2])/3\n",
    "Y[3] = (Y[0] + Y[1] + Y[2])/3\n",
    "\n",
    "U = [0, 1, 0.7, 0]\n",
    "V = [-1, 0, 0.7, 0]\n",
    "\n",
    "U[3] = (U[0] + U[1] + U[2])/3\n",
    "V[3] = (V[0] + V[1] + V[2])/3\n",
    "\n",
    "fig, ax = plt.subplots()\n",
    "q = ax.quiver(X, Y, U, V)\n",
    "ax.quiverkey(q, X=0.3, Y=1.1, U=10,\n",
    "             label='Quiver key, length = 10', labelpos='E')\n",
    "\n",
    "plt.show()\n",
    "print(U, V)"
   ]
  },
  {
   "cell_type": "code",
   "execution_count": null,
   "metadata": {},
   "outputs": [],
   "source": []
  }
 ],
 "metadata": {
  "kernelspec": {
   "display_name": "Python 3",
   "language": "python",
   "name": "python3"
  },
  "language_info": {
   "codemirror_mode": {
    "name": "ipython",
    "version": 3
   },
   "file_extension": ".py",
   "mimetype": "text/x-python",
   "name": "python",
   "nbconvert_exporter": "python",
   "pygments_lexer": "ipython3",
   "version": "3.7.6"
  }
 },
 "nbformat": 4,
 "nbformat_minor": 4
}
